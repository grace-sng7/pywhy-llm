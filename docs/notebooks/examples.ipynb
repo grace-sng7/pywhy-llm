{
  "cells": [
    {
      "cell_type": "code",
      "source": [
        "from google.colab import drive\n",
        "drive.mount('/content/drive')"
      ],
      "metadata": {
        "id": "1ydj18zZEzs-"
      },
      "execution_count": null,
      "outputs": []
    },
    {
      "cell_type": "code",
      "source": [
        "pip install '/content/drive/MyDrive/pywhy-llm'"
      ],
      "metadata": {
        "collapsed": true,
        "id": "c52A4DNmE2WQ"
      },
      "execution_count": null,
      "outputs": []
    },
    {
      "cell_type": "code",
      "source": [
        "pip install guidance"
      ],
      "metadata": {
        "collapsed": true,
        "id": "oE9HxS8LFNnm"
      },
      "execution_count": null,
      "outputs": []
    },
    {
      "cell_type": "code",
      "source": [
        "pip install python-dotenv"
      ],
      "metadata": {
        "id": "cf0nNdMMFRXK"
      },
      "execution_count": null,
      "outputs": []
    },
    {
      "cell_type": "code",
      "execution_count": null,
      "metadata": {
        "id": "dGRmzUIWEyLR"
      },
      "outputs": [],
      "source": [
        "from dotenv import load_dotenv\n",
        "import os\n",
        "import guidance\n",
        "from guidance import models\n",
        "\n",
        "load_dotenv()\n",
        "\n",
        "os.environ[\"OPENAI_API_KEY\"] = ''"
      ]
    },
    {
      "cell_type": "code",
      "execution_count": null,
      "metadata": {
        "id": "21IoxDY7EyLT"
      },
      "outputs": [],
      "source": [
        "from typing import Dict, Tuple, List\n",
        "\n",
        "sea_ice_variables = [\n",
        "    \"geopotential_heights\",\n",
        "    \"relative_humidity\",\n",
        "    \"sea_level_pressure\",\n",
        "    \"zonal_wind_at_10_meters\",\n",
        "    \"meridional_wind_at_10_meters\",\n",
        "    \"sensible_plus_latent_heat_flux\",\n",
        "    \"total_precipitation\",\n",
        "    \"total_cloud_cover\",\n",
        "    \"total_cloud_water_path\",\n",
        "    \"surface_net_shortwave_flux\",\n",
        "    \"surface_net_longwave_flux\",\n",
        "    \"northern_hemisphere_sea_ice_extent\",\n",
        "]\n",
        "\n",
        "treatment = \"surface_net_longwave_flux\"\n",
        "outcome = \"northern_hemisphere_sea_ice_extent\"\n",
        "\n",
        "# ground truth confounders to the relationship between surface_net_longwave_flux and northern_hemisphere_sea_ice_extent\n",
        "sea_ice_confounders = [\"total_precipitation\"]\n",
        "\n",
        "sea_ice_relationships: List[Tuple[str, str]] = [\n",
        "    (\"surface_net_longwave_flux\", \"northern_hemisphere_sea_ice_extent\"),\n",
        "\n",
        "    (\"geopotential_heights\", \"surface_net_longwave_flux\"),\n",
        "    (\"geopotential_heights\", \"relative_humidity\"),\n",
        "    (\"geopotential_heights\", \"sea_level_pressure\"),\n",
        "\n",
        "    (\"relative_humidity\", \"total_cloud_cover\"),\n",
        "    (\"relative_humidity\", \"total_cloud_water_path\"),\n",
        "    (\"relative_humidity\", \"total_precipitation\"),\n",
        "    (\"relative_humidity\", \"surface_net_longwave_flux\"),\n",
        "\n",
        "    (\"sea_level_pressure\", \"relative_humidity\"),\n",
        "    (\"sea_level_pressure\", \"geopotential_heights\"),\n",
        "    (\"sea_level_pressure\", \"zonal_wind_at_10_meters\"),\n",
        "    (\"sea_level_pressure\", \"northern_hemisphere_sea_ice_extent\"),\n",
        "    (\"sea_level_pressure\", \"sensible_plus_latent_heat_flux\"),\n",
        "    (\"sea_level_pressure\", \"meridional_wind_at_10_meters\"),\n",
        "\n",
        "    (\"zonal_wind_at_10_meters\", \"northern_hemisphere_sea_ice_extent\"),\n",
        "    (\"zonal_wind_at_10_meters\", \"sensible_plus_latent_heat_flux\"),\n",
        "\n",
        "    (\"meridional_wind_at_10_meters\", \"northern_hemisphere_sea_ice_extent\"),\n",
        "    (\"meridional_wind_at_10_meters\", \"sensible_plus_latent_heat_flux\"),\n",
        "\n",
        "    (\"sensible_plus_latent_heat_flux\", \"northern_hemisphere_sea_ice_extent\"),\n",
        "    (\"sensible_plus_latent_heat_flux\", \"sea_level_pressure\"),\n",
        "    (\"sensible_plus_latent_heat_flux\", \"zonal_wind_at_10_meters\"),\n",
        "    (\"sensible_plus_latent_heat_flux\", \"meridional_wind_at_10_meters\"),\n",
        "    (\"sensible_plus_latent_heat_flux\", \"total_precipitation\"),\n",
        "    (\"sensible_plus_latent_heat_flux\", \"total_cloud_cover\"),\n",
        "    (\"sensible_plus_latent_heat_flux\", \"total_cloud_water_path\"),\n",
        "\n",
        "    (\"total_precipitation\", \"northern_hemisphere_sea_ice_extent\"),\n",
        "    (\"total_precipitation\", \"relative_humidity\"),\n",
        "    (\"total_precipitation\", \"sensible_plus_latent_heat_flux\"),\n",
        "    (\"total_precipitation\", \"surface_net_longwave_flux\"),\n",
        "    (\"total_precipitation\", \"total_cloud_cover\"),\n",
        "    (\"total_precipitation\", \"total_cloud_water_path\"),\n",
        "\n",
        "    (\"total_cloud_water_path\", \"total_precipitation\"),\n",
        "    (\"total_cloud_water_path\", \"sensible_plus_latent_heat_flux\"),\n",
        "    (\"total_cloud_water_path\", \"relative_humidity\"),\n",
        "    (\"total_cloud_water_path\", \"surface_net_longwave_flux\"),\n",
        "    (\"total_cloud_water_path\", \"surface_net_shortwave_flux\"),\n",
        "\n",
        "    (\"total_cloud_cover\", \"total_precipitation\"),\n",
        "    (\"total_cloud_cover\", \"sensible_plus_latent_heat_flux\"),\n",
        "    (\"total_cloud_cover\", \"relative_humidity\"),\n",
        "    (\"total_cloud_cover\", \"surface_net_longwave_flux\"),\n",
        "    (\"total_cloud_cover\", \"surface_net_shortwave_flux\"),\n",
        "\n",
        "    (\"surface_net_shortwave_flux\", \"northern_hemisphere_sea_ice_extent\"),\n",
        "\n",
        "    (\"northern_hemisphere_sea_ice_extent\", \"sea_level_pressure\"),\n",
        "    (\"northern_hemisphere_sea_ice_extent\", \"zonal_wind_at_10_meters\"),\n",
        "    (\"northern_hemisphere_sea_ice_extent\", \"meridional_wind_at_10_meters\"),\n",
        "    (\"northern_hemisphere_sea_ice_extent\", \"sensible_plus_latent_heat_flux\"),\n",
        "    (\"northern_hemisphere_sea_ice_extent\", \"surface_net_shortwave_flux\"),\n",
        "    (\"northern_hemisphere_sea_ice_extent\", \"surface_net_longwave_flux\"),\n",
        "]"
      ]
    },
    {
      "cell_type": "markdown",
      "metadata": {
        "id": "awn-H8kaEyLU"
      },
      "source": [
        "## Helpers"
      ]
    },
    {
      "cell_type": "markdown",
      "metadata": {
        "id": "M3RolVDYEyLV"
      },
      "source": [
        "Model type - the type of LLM used\n",
        "By default it's set to completions models"
      ]
    },
    {
      "cell_type": "markdown",
      "metadata": {
        "id": "3GSYRbQVEyLV"
      },
      "source": [
        "Relationship strategy - is the type of request made to the LLM (request parent, child, pairwise relationship)"
      ]
    },
    {
      "cell_type": "code",
      "execution_count": null,
      "metadata": {
        "id": "HOUhJZbcEyLV"
      },
      "outputs": [],
      "source": [
        "from pywhyllm import ModelType, RelationshipStrategy\n",
        "model_type = ModelType.Completion\n",
        "relationship_strategy = RelationshipStrategy.Parent"
      ]
    },
    {
      "cell_type": "markdown",
      "metadata": {
        "id": "bvsTJhlbEyLV"
      },
      "source": [
        "## Model"
      ]
    },
    {
      "cell_type": "code",
      "source": [
        "from pywhyllm.suggesters.model_suggester import ModelSuggester\n",
        "m = ModelSuggester('gpt-4')"
      ],
      "metadata": {
        "colab": {
          "base_uri": "https://localhost:8080/"
        },
        "id": "pEdp6Lwpksi2",
        "outputId": "5a1e1683-6e19-41ee-bb1e-1c42a86416aa"
      },
      "execution_count": null,
      "outputs": [
        {
          "output_type": "stream",
          "name": "stderr",
          "text": [
            "WARNING:guidance.models._model:gpustat is not installed, run `pip install gpustat` to collect GPU stats.\n"
          ]
        }
      ]
    },
    {
      "cell_type": "code",
      "source": [
        "domain_expertises = m.suggest_domain_expertises(\"causal mechanisms\", sea_ice_variables)"
      ],
      "metadata": {
        "id": "mIRwbAZ_kd4q"
      },
      "execution_count": null,
      "outputs": []
    },
    {
      "cell_type": "code",
      "source": [
        "domain_expertises"
      ],
      "metadata": {
        "id": "hBhGgry1k-EG"
      },
      "execution_count": null,
      "outputs": []
    },
    {
      "cell_type": "code",
      "source": [
        "domain_experts = m.suggest_domain_experts(\"causal mechanisms\", sea_ice_variables)"
      ],
      "metadata": {
        "id": "0eHUZVSGliJx"
      },
      "execution_count": null,
      "outputs": []
    },
    {
      "cell_type": "code",
      "source": [
        "domain_experts"
      ],
      "metadata": {
        "id": "XenD7Zz7ll4P"
      },
      "execution_count": null,
      "outputs": []
    },
    {
      "cell_type": "code",
      "source": [
        "parents = m.suggest_parents(\"causal mechanisms\", \"meterology\", \"relative_humidity\", sea_ice_variables)"
      ],
      "metadata": {
        "id": "_-cEK7j9ATAO"
      },
      "execution_count": null,
      "outputs": []
    },
    {
      "cell_type": "code",
      "source": [
        "parents"
      ],
      "metadata": {
        "id": "fPq3fnxKAuLk"
      },
      "execution_count": null,
      "outputs": []
    },
    {
      "cell_type": "code",
      "source": [
        "children = m.suggest_children(\"causal mechanisms\", \"meterology\", \"relative_humidity\", sea_ice_variables)"
      ],
      "metadata": {
        "id": "U18jzHQzJYmZ"
      },
      "execution_count": null,
      "outputs": []
    },
    {
      "cell_type": "code",
      "source": [
        "children"
      ],
      "metadata": {
        "id": "nw8OOCBSOpAP"
      },
      "execution_count": null,
      "outputs": []
    },
    {
      "cell_type": "code",
      "source": [
        "pairwise_relationship = m.suggest_pairwise_relationship(\"meterology\", \"total_precipitation\", \"relative_humidity\")"
      ],
      "metadata": {
        "id": "wWGjSa_cby5j"
      },
      "execution_count": null,
      "outputs": []
    },
    {
      "cell_type": "code",
      "source": [
        "pairwise_relationship"
      ],
      "metadata": {
        "id": "qeqcF4Wwd5xm"
      },
      "execution_count": null,
      "outputs": []
    },
    {
      "cell_type": "code",
      "source": [
        "confounders = m.suggest_confounders(treatment, outcome, sea_ice_variables, domain_expertises,\"causal mechanisms\")"
      ],
      "metadata": {
        "id": "5WkPttsK-_rz"
      },
      "execution_count": null,
      "outputs": []
    },
    {
      "cell_type": "code",
      "source": [
        "confounders"
      ],
      "metadata": {
        "id": "sW0Hlk-u-V0v"
      },
      "execution_count": null,
      "outputs": []
    },
    {
      "cell_type": "code",
      "execution_count": null,
      "metadata": {
        "id": "9jAA5UxmEyLV"
      },
      "outputs": [],
      "source": [
        "\"\"\"returns a dictionary with the how many times that edge was suggested\"\"\"\n",
        "model_edges = m.suggest_relationships(treatment, outcome, sea_ice_variables, domain_expertises, \"causal mechanisms\", None, RelationshipStrategy.Pairwise)"
      ]
    },
    {
      "cell_type": "code",
      "source": [
        "model_edges"
      ],
      "metadata": {
        "id": "7j7fYC1yiwna"
      },
      "execution_count": null,
      "outputs": []
    },
    {
      "cell_type": "markdown",
      "metadata": {
        "id": "ZXAOVBjWEyLW"
      },
      "source": [
        "## Identifier"
      ]
    },
    {
      "cell_type": "code",
      "execution_count": null,
      "metadata": {
        "id": "OtdU46dQEyLW"
      },
      "outputs": [],
      "source": [
        "from pywhyllm.suggesters.identification_suggester import IdentificationSuggester\n",
        "i = IdentificationSuggester('gpt-4')"
      ]
    },
    {
      "cell_type": "code",
      "source": [
        "\"\"\"calls modeler suggest_confounders in the background\"\"\"\n",
        "backdoor = i.suggest_backdoor(treatment, outcome, sea_ice_variables, domain_expertises, \"causal mechanisms\")"
      ],
      "metadata": {
        "id": "ldAYLVc1EW88"
      },
      "execution_count": null,
      "outputs": []
    },
    {
      "cell_type": "code",
      "source": [
        "backdoor"
      ],
      "metadata": {
        "id": "0Isz1yq-kBVU"
      },
      "execution_count": null,
      "outputs": []
    },
    {
      "cell_type": "code",
      "source": [
        "\"\"\"suggests instrumental variables\"\"\"\n",
        "ivs = i.suggest_ivs(treatment, outcome, sea_ice_variables, domain_expertises)"
      ],
      "metadata": {
        "id": "c9Su67G5kTKP"
      },
      "execution_count": null,
      "outputs": []
    },
    {
      "cell_type": "code",
      "source": [
        "ivs"
      ],
      "metadata": {
        "id": "e5CaH4lckbQl"
      },
      "execution_count": null,
      "outputs": []
    },
    {
      "cell_type": "markdown",
      "metadata": {
        "id": "4lsrPKj7EyLW"
      },
      "source": [
        "## Validator"
      ]
    },
    {
      "cell_type": "code",
      "execution_count": null,
      "metadata": {
        "id": "69rLl6dtEyLW"
      },
      "outputs": [],
      "source": [
        "from pywhyllm.suggesters.validation_suggester import ValidationSuggester\n",
        "v = ValidationSuggester('gpt-4')"
      ]
    },
    {
      "cell_type": "code",
      "source": [
        "latent_confounders = v.suggest_latent_confounders(treatment, outcome, domain_expertises)"
      ],
      "metadata": {
        "id": "DU9ql-uTz4tE"
      },
      "execution_count": null,
      "outputs": []
    },
    {
      "cell_type": "code",
      "source": [
        "latent_confounders"
      ],
      "metadata": {
        "id": "X1TptA_P0FQZ"
      },
      "execution_count": null,
      "outputs": []
    },
    {
      "cell_type": "code",
      "source": [
        "negative_controls = v.suggest_negative_controls(treatment, outcome, sea_ice_variables, domain_expertises)"
      ],
      "metadata": {
        "id": "AIj3GD8J0GaJ"
      },
      "execution_count": null,
      "outputs": []
    },
    {
      "cell_type": "code",
      "source": [
        "negative_controls"
      ],
      "metadata": {
        "id": "ZJwgwJLP2pON"
      },
      "execution_count": null,
      "outputs": []
    },
    {
      "cell_type": "code",
      "source": [
        "critique = v.request_pairwise_critique(domain_expertises[0], \"total_precipitation\", \"relative_humidity\")"
      ],
      "metadata": {
        "id": "xfTpbzuPpC4f"
      },
      "execution_count": null,
      "outputs": []
    },
    {
      "cell_type": "code",
      "source": [
        "critique"
      ],
      "metadata": {
        "id": "saykqPTQsco2"
      },
      "execution_count": null,
      "outputs": []
    },
    {
      "cell_type": "code",
      "source": [
        "parent=RelationshipStrategy.Parent\n",
        "child=RelationshipStrategy.Child\n",
        "pairwise=RelationshipStrategy.Pairwise"
      ],
      "metadata": {
        "id": "9CJgSelu3L-s"
      },
      "execution_count": null,
      "outputs": []
    },
    {
      "cell_type": "code",
      "source": [
        "critique = v.critique_graph(sea_ice_variables, model_edges, domain_expertises, \"causal mechanisms\", None, pairwise)"
      ],
      "metadata": {
        "id": "ES6P8_st3NXU"
      },
      "execution_count": null,
      "outputs": []
    },
    {
      "cell_type": "code",
      "source": [
        "critique"
      ],
      "metadata": {
        "id": "JrlTj-QmykJL"
      },
      "execution_count": null,
      "outputs": []
    }
  ],
  "metadata": {
    "kernelspec": {
      "display_name": ".venv",
      "language": "python",
      "name": "python3"
    },
    "language_info": {
      "codemirror_mode": {
        "name": "ipython",
        "version": 3
      },
      "file_extension": ".py",
      "mimetype": "text/x-python",
      "name": "python",
      "nbconvert_exporter": "python",
      "pygments_lexer": "ipython3",
      "version": "3.11.4"
    },
    "orig_nbformat": 4,
    "colab": {
      "provenance": []
    }
  },
  "nbformat": 4,
  "nbformat_minor": 0
}