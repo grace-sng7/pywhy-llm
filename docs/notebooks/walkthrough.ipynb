{
 "cells": [
  {
   "cell_type": "markdown",
   "metadata": {},
   "source": [
    "# Walkthrough of different functions"
   ]
  },
  {
   "cell_type": "code",
   "execution_count": 1,
   "metadata": {
    "colab": {
     "base_uri": "https://localhost:8080/"
    },
    "id": "JwUzWIdy4DjA",
    "outputId": "75a3e037-1486-4a9d-c250-9c04a4f2a461"
   },
   "outputs": [
    {
     "name": "stdout",
     "output_type": "stream",
     "text": [
      "Mounted at /content/drive\n"
     ]
    }
   ],
   "source": [
    "from google.colab import drive\n",
    "drive.mount('/content/drive')"
   ]
  },
  {
   "cell_type": "code",
   "execution_count": 2,
   "metadata": {
    "colab": {
     "base_uri": "https://localhost:8080/"
    },
    "collapsed": true,
    "id": "IFXQk0x3J5YO",
    "jupyter": {
     "outputs_hidden": true
    },
    "outputId": "39514ba6-a88d-4f38-dccd-17ed2b008c04"
   },
   "outputs": [
    {
     "name": "stdout",
     "output_type": "stream",
     "text": [
      "Collecting guidance\n",
      "  Downloading guidance-0.2.0-cp311-cp311-manylinux_2_17_x86_64.manylinux2014_x86_64.whl.metadata (2.8 kB)\n",
      "Collecting diskcache (from guidance)\n",
      "  Downloading diskcache-5.6.3-py3-none-any.whl.metadata (20 kB)\n",
      "Requirement already satisfied: numpy in /usr/local/lib/python3.11/dist-packages (from guidance) (1.26.4)\n",
      "Collecting ordered_set (from guidance)\n",
      "  Downloading ordered_set-4.1.0-py3-none-any.whl.metadata (5.3 kB)\n",
      "Requirement already satisfied: platformdirs in /usr/local/lib/python3.11/dist-packages (from guidance) (4.3.6)\n",
      "Requirement already satisfied: pydantic in /usr/local/lib/python3.11/dist-packages (from guidance) (2.10.6)\n",
      "Requirement already satisfied: referencing in /usr/local/lib/python3.11/dist-packages (from guidance) (0.36.2)\n",
      "Requirement already satisfied: requests in /usr/local/lib/python3.11/dist-packages (from guidance) (2.32.3)\n",
      "Requirement already satisfied: psutil in /usr/local/lib/python3.11/dist-packages (from guidance) (5.9.5)\n",
      "Collecting tiktoken>=0.3 (from guidance)\n",
      "  Downloading tiktoken-0.9.0-cp311-cp311-manylinux_2_17_x86_64.manylinux2014_x86_64.whl.metadata (6.7 kB)\n",
      "Collecting guidance-stitch (from guidance)\n",
      "  Downloading guidance_stitch-0.1.4-py3-none-any.whl.metadata (5.7 kB)\n",
      "Collecting llguidance==0.5.1 (from guidance)\n",
      "  Downloading llguidance-0.5.1-cp39-abi3-manylinux_2_17_x86_64.manylinux2014_x86_64.whl.metadata (6.8 kB)\n",
      "Requirement already satisfied: regex>=2022.1.18 in /usr/local/lib/python3.11/dist-packages (from tiktoken>=0.3->guidance) (2024.11.6)\n",
      "Requirement already satisfied: charset-normalizer<4,>=2 in /usr/local/lib/python3.11/dist-packages (from requests->guidance) (3.4.1)\n",
      "Requirement already satisfied: idna<4,>=2.5 in /usr/local/lib/python3.11/dist-packages (from requests->guidance) (3.10)\n",
      "Requirement already satisfied: urllib3<3,>=1.21.1 in /usr/local/lib/python3.11/dist-packages (from requests->guidance) (2.3.0)\n",
      "Requirement already satisfied: certifi>=2017.4.17 in /usr/local/lib/python3.11/dist-packages (from requests->guidance) (2025.1.31)\n",
      "Collecting ipywidgets>=8.0.0 (from guidance-stitch->guidance)\n",
      "  Downloading ipywidgets-8.1.5-py3-none-any.whl.metadata (2.3 kB)\n",
      "Requirement already satisfied: annotated-types>=0.6.0 in /usr/local/lib/python3.11/dist-packages (from pydantic->guidance) (0.7.0)\n",
      "Requirement already satisfied: pydantic-core==2.27.2 in /usr/local/lib/python3.11/dist-packages (from pydantic->guidance) (2.27.2)\n",
      "Requirement already satisfied: typing-extensions>=4.12.2 in /usr/local/lib/python3.11/dist-packages (from pydantic->guidance) (4.12.2)\n",
      "Requirement already satisfied: attrs>=22.2.0 in /usr/local/lib/python3.11/dist-packages (from referencing->guidance) (25.1.0)\n",
      "Requirement already satisfied: rpds-py>=0.7.0 in /usr/local/lib/python3.11/dist-packages (from referencing->guidance) (0.22.3)\n",
      "Collecting comm>=0.1.3 (from ipywidgets>=8.0.0->guidance-stitch->guidance)\n",
      "  Downloading comm-0.2.2-py3-none-any.whl.metadata (3.7 kB)\n",
      "Requirement already satisfied: ipython>=6.1.0 in /usr/local/lib/python3.11/dist-packages (from ipywidgets>=8.0.0->guidance-stitch->guidance) (7.34.0)\n",
      "Requirement already satisfied: traitlets>=4.3.1 in /usr/local/lib/python3.11/dist-packages (from ipywidgets>=8.0.0->guidance-stitch->guidance) (5.7.1)\n",
      "Collecting widgetsnbextension~=4.0.12 (from ipywidgets>=8.0.0->guidance-stitch->guidance)\n",
      "  Downloading widgetsnbextension-4.0.13-py3-none-any.whl.metadata (1.6 kB)\n",
      "Requirement already satisfied: jupyterlab-widgets~=3.0.12 in /usr/local/lib/python3.11/dist-packages (from ipywidgets>=8.0.0->guidance-stitch->guidance) (3.0.13)\n",
      "Requirement already satisfied: setuptools>=18.5 in /usr/local/lib/python3.11/dist-packages (from ipython>=6.1.0->ipywidgets>=8.0.0->guidance-stitch->guidance) (75.1.0)\n",
      "Collecting jedi>=0.16 (from ipython>=6.1.0->ipywidgets>=8.0.0->guidance-stitch->guidance)\n",
      "  Downloading jedi-0.19.2-py2.py3-none-any.whl.metadata (22 kB)\n",
      "Requirement already satisfied: decorator in /usr/local/lib/python3.11/dist-packages (from ipython>=6.1.0->ipywidgets>=8.0.0->guidance-stitch->guidance) (4.4.2)\n",
      "Requirement already satisfied: pickleshare in /usr/local/lib/python3.11/dist-packages (from ipython>=6.1.0->ipywidgets>=8.0.0->guidance-stitch->guidance) (0.7.5)\n",
      "Requirement already satisfied: prompt-toolkit!=3.0.0,!=3.0.1,<3.1.0,>=2.0.0 in /usr/local/lib/python3.11/dist-packages (from ipython>=6.1.0->ipywidgets>=8.0.0->guidance-stitch->guidance) (3.0.50)\n",
      "Requirement already satisfied: pygments in /usr/local/lib/python3.11/dist-packages (from ipython>=6.1.0->ipywidgets>=8.0.0->guidance-stitch->guidance) (2.18.0)\n",
      "Requirement already satisfied: backcall in /usr/local/lib/python3.11/dist-packages (from ipython>=6.1.0->ipywidgets>=8.0.0->guidance-stitch->guidance) (0.2.0)\n",
      "Requirement already satisfied: matplotlib-inline in /usr/local/lib/python3.11/dist-packages (from ipython>=6.1.0->ipywidgets>=8.0.0->guidance-stitch->guidance) (0.1.7)\n",
      "Requirement already satisfied: pexpect>4.3 in /usr/local/lib/python3.11/dist-packages (from ipython>=6.1.0->ipywidgets>=8.0.0->guidance-stitch->guidance) (4.9.0)\n",
      "Requirement already satisfied: parso<0.9.0,>=0.8.4 in /usr/local/lib/python3.11/dist-packages (from jedi>=0.16->ipython>=6.1.0->ipywidgets>=8.0.0->guidance-stitch->guidance) (0.8.4)\n",
      "Requirement already satisfied: ptyprocess>=0.5 in /usr/local/lib/python3.11/dist-packages (from pexpect>4.3->ipython>=6.1.0->ipywidgets>=8.0.0->guidance-stitch->guidance) (0.7.0)\n",
      "Requirement already satisfied: wcwidth in /usr/local/lib/python3.11/dist-packages (from prompt-toolkit!=3.0.0,!=3.0.1,<3.1.0,>=2.0.0->ipython>=6.1.0->ipywidgets>=8.0.0->guidance-stitch->guidance) (0.2.13)\n",
      "Downloading guidance-0.2.0-cp311-cp311-manylinux_2_17_x86_64.manylinux2014_x86_64.whl (313 kB)\n",
      "\u001b[?25l   \u001b[90m━━━━━━━━━━━━━━━━━━━━━━━━━━━━━━━━━━━━━━━━\u001b[0m \u001b[32m0.0/313.9 kB\u001b[0m \u001b[31m?\u001b[0m eta \u001b[36m-:--:--\u001b[0m\r",
      "\u001b[2K   \u001b[90m━━━━━━━━━━━━━━━━━━━━━━━━━━━━━━━━━━━━━━━━\u001b[0m \u001b[32m313.9/313.9 kB\u001b[0m \u001b[31m23.1 MB/s\u001b[0m eta \u001b[36m0:00:00\u001b[0m\n",
      "\u001b[?25hDownloading llguidance-0.5.1-cp39-abi3-manylinux_2_17_x86_64.manylinux2014_x86_64.whl (2.4 MB)\n",
      "\u001b[?25l   \u001b[90m━━━━━━━━━━━━━━━━━━━━━━━━━━━━━━━━━━━━━━━━\u001b[0m \u001b[32m0.0/2.4 MB\u001b[0m \u001b[31m?\u001b[0m eta \u001b[36m-:--:--\u001b[0m\r",
      "\u001b[2K   \u001b[90m━━━━━━━━━━━━━━━━━━━━━━━━━━━━━━━━━━━━━━━━\u001b[0m \u001b[32m2.4/2.4 MB\u001b[0m \u001b[31m74.7 MB/s\u001b[0m eta \u001b[36m0:00:00\u001b[0m\n",
      "\u001b[?25hDownloading tiktoken-0.9.0-cp311-cp311-manylinux_2_17_x86_64.manylinux2014_x86_64.whl (1.2 MB)\n",
      "\u001b[?25l   \u001b[90m━━━━━━━━━━━━━━━━━━━━━━━━━━━━━━━━━━━━━━━━\u001b[0m \u001b[32m0.0/1.2 MB\u001b[0m \u001b[31m?\u001b[0m eta \u001b[36m-:--:--\u001b[0m\r",
      "\u001b[2K   \u001b[90m━━━━━━━━━━━━━━━━━━━━━━━━━━━━━━━━━━━━━━━━\u001b[0m \u001b[32m1.2/1.2 MB\u001b[0m \u001b[31m61.0 MB/s\u001b[0m eta \u001b[36m0:00:00\u001b[0m\n",
      "\u001b[?25hDownloading diskcache-5.6.3-py3-none-any.whl (45 kB)\n",
      "\u001b[2K   \u001b[90m━━━━━━━━━━━━━━━━━━━━━━━━━━━━━━━━━━━━━━━━\u001b[0m \u001b[32m45.5/45.5 kB\u001b[0m \u001b[31m4.8 MB/s\u001b[0m eta \u001b[36m0:00:00\u001b[0m\n",
      "\u001b[?25hDownloading guidance_stitch-0.1.4-py3-none-any.whl (108 kB)\n",
      "\u001b[2K   \u001b[90m━━━━━━━━━━━━━━━━━━━━━━━━━━━━━━━━━━━━━━━━\u001b[0m \u001b[32m108.2/108.2 kB\u001b[0m \u001b[31m9.4 MB/s\u001b[0m eta \u001b[36m0:00:00\u001b[0m\n",
      "\u001b[?25hDownloading ordered_set-4.1.0-py3-none-any.whl (7.6 kB)\n",
      "Downloading ipywidgets-8.1.5-py3-none-any.whl (139 kB)\n",
      "\u001b[2K   \u001b[90m━━━━━━━━━━━━━━━━━━━━━━━━━━━━━━━━━━━━━━━━\u001b[0m \u001b[32m139.8/139.8 kB\u001b[0m \u001b[31m15.9 MB/s\u001b[0m eta \u001b[36m0:00:00\u001b[0m\n",
      "\u001b[?25hDownloading comm-0.2.2-py3-none-any.whl (7.2 kB)\n",
      "Downloading widgetsnbextension-4.0.13-py3-none-any.whl (2.3 MB)\n",
      "\u001b[2K   \u001b[90m━━━━━━━━━━━━━━━━━━━━━━━━━━━━━━━━━━━━━━━━\u001b[0m \u001b[32m2.3/2.3 MB\u001b[0m \u001b[31m62.1 MB/s\u001b[0m eta \u001b[36m0:00:00\u001b[0m\n",
      "\u001b[?25hDownloading jedi-0.19.2-py2.py3-none-any.whl (1.6 MB)\n",
      "\u001b[2K   \u001b[90m━━━━━━━━━━━━━━━━━━━━━━━━━━━━━━━━━━━━━━━━\u001b[0m \u001b[32m1.6/1.6 MB\u001b[0m \u001b[31m48.2 MB/s\u001b[0m eta \u001b[36m0:00:00\u001b[0m\n",
      "\u001b[?25hInstalling collected packages: widgetsnbextension, ordered_set, llguidance, jedi, diskcache, comm, tiktoken, ipywidgets, guidance-stitch, guidance\n",
      "  Attempting uninstall: widgetsnbextension\n",
      "    Found existing installation: widgetsnbextension 3.6.10\n",
      "    Uninstalling widgetsnbextension-3.6.10:\n",
      "      Successfully uninstalled widgetsnbextension-3.6.10\n",
      "  Attempting uninstall: ipywidgets\n",
      "    Found existing installation: ipywidgets 7.7.1\n",
      "    Uninstalling ipywidgets-7.7.1:\n",
      "      Successfully uninstalled ipywidgets-7.7.1\n",
      "Successfully installed comm-0.2.2 diskcache-5.6.3 guidance-0.2.0 guidance-stitch-0.1.4 ipywidgets-8.1.5 jedi-0.19.2 llguidance-0.5.1 ordered_set-4.1.0 tiktoken-0.9.0 widgetsnbextension-4.0.13\n"
     ]
    }
   ],
   "source": [
    "pip install guidance"
   ]
  },
  {
   "cell_type": "code",
   "execution_count": 3,
   "metadata": {
    "id": "wMGVimqNJ5YQ"
   },
   "outputs": [],
   "source": [
    "import guidance  # requires Guidance with main branch and PR https://github.com/guidance-ai/guidance/pull/348 to be merged"
   ]
  },
  {
   "cell_type": "code",
   "execution_count": 4,
   "metadata": {
    "colab": {
     "base_uri": "https://localhost:8080/"
    },
    "id": "p88jkWT_KUx4",
    "outputId": "5325d5cc-e778-4b76-ceac-c73d4ce11b2d"
   },
   "outputs": [
    {
     "name": "stdout",
     "output_type": "stream",
     "text": [
      "Collecting python-dotenv\n",
      "  Downloading python_dotenv-1.0.1-py3-none-any.whl.metadata (23 kB)\n",
      "Downloading python_dotenv-1.0.1-py3-none-any.whl (19 kB)\n",
      "Installing collected packages: python-dotenv\n",
      "Successfully installed python-dotenv-1.0.1\n"
     ]
    }
   ],
   "source": [
    " pip install python-dotenv"
   ]
  },
  {
   "cell_type": "code",
   "execution_count": 5,
   "metadata": {
    "colab": {
     "base_uri": "https://localhost:8080/"
    },
    "collapsed": true,
    "id": "tH6AHCexMKvs",
    "jupyter": {
     "outputs_hidden": true
    },
    "outputId": "d8a10c8e-0102-4b9a-aad6-e26115c0ac52"
   },
   "outputs": [
    {
     "name": "stdout",
     "output_type": "stream",
     "text": [
      "Processing ./drive/MyDrive/pywhy-llm\n",
      "  Installing build dependencies ... \u001b[?25l\u001b[?25hdone\n",
      "  Getting requirements to build wheel ... \u001b[?25l\u001b[?25hdone\n",
      "  Preparing metadata (pyproject.toml) ... \u001b[?25l\u001b[?25hdone\n",
      "Requirement already satisfied: guidance>=0.1.5 in /usr/local/lib/python3.11/dist-packages (from pywhyllm==0.0.0) (0.2.0)\n",
      "Requirement already satisfied: networkx>=2.8.5 in /usr/local/lib/python3.11/dist-packages (from pywhyllm==0.0.0) (3.4.2)\n",
      "Requirement already satisfied: diskcache in /usr/local/lib/python3.11/dist-packages (from guidance>=0.1.5->pywhyllm==0.0.0) (5.6.3)\n",
      "Requirement already satisfied: numpy in /usr/local/lib/python3.11/dist-packages (from guidance>=0.1.5->pywhyllm==0.0.0) (1.26.4)\n",
      "Requirement already satisfied: ordered_set in /usr/local/lib/python3.11/dist-packages (from guidance>=0.1.5->pywhyllm==0.0.0) (4.1.0)\n",
      "Requirement already satisfied: platformdirs in /usr/local/lib/python3.11/dist-packages (from guidance>=0.1.5->pywhyllm==0.0.0) (4.3.6)\n",
      "Requirement already satisfied: pydantic in /usr/local/lib/python3.11/dist-packages (from guidance>=0.1.5->pywhyllm==0.0.0) (2.10.6)\n",
      "Requirement already satisfied: referencing in /usr/local/lib/python3.11/dist-packages (from guidance>=0.1.5->pywhyllm==0.0.0) (0.36.2)\n",
      "Requirement already satisfied: requests in /usr/local/lib/python3.11/dist-packages (from guidance>=0.1.5->pywhyllm==0.0.0) (2.32.3)\n",
      "Requirement already satisfied: psutil in /usr/local/lib/python3.11/dist-packages (from guidance>=0.1.5->pywhyllm==0.0.0) (5.9.5)\n",
      "Requirement already satisfied: tiktoken>=0.3 in /usr/local/lib/python3.11/dist-packages (from guidance>=0.1.5->pywhyllm==0.0.0) (0.9.0)\n",
      "Requirement already satisfied: guidance-stitch in /usr/local/lib/python3.11/dist-packages (from guidance>=0.1.5->pywhyllm==0.0.0) (0.1.4)\n",
      "Requirement already satisfied: llguidance==0.5.1 in /usr/local/lib/python3.11/dist-packages (from guidance>=0.1.5->pywhyllm==0.0.0) (0.5.1)\n",
      "Requirement already satisfied: regex>=2022.1.18 in /usr/local/lib/python3.11/dist-packages (from tiktoken>=0.3->guidance>=0.1.5->pywhyllm==0.0.0) (2024.11.6)\n",
      "Requirement already satisfied: charset-normalizer<4,>=2 in /usr/local/lib/python3.11/dist-packages (from requests->guidance>=0.1.5->pywhyllm==0.0.0) (3.4.1)\n",
      "Requirement already satisfied: idna<4,>=2.5 in /usr/local/lib/python3.11/dist-packages (from requests->guidance>=0.1.5->pywhyllm==0.0.0) (3.10)\n",
      "Requirement already satisfied: urllib3<3,>=1.21.1 in /usr/local/lib/python3.11/dist-packages (from requests->guidance>=0.1.5->pywhyllm==0.0.0) (2.3.0)\n",
      "Requirement already satisfied: certifi>=2017.4.17 in /usr/local/lib/python3.11/dist-packages (from requests->guidance>=0.1.5->pywhyllm==0.0.0) (2025.1.31)\n",
      "Requirement already satisfied: ipywidgets>=8.0.0 in /usr/local/lib/python3.11/dist-packages (from guidance-stitch->guidance>=0.1.5->pywhyllm==0.0.0) (8.1.5)\n",
      "Requirement already satisfied: annotated-types>=0.6.0 in /usr/local/lib/python3.11/dist-packages (from pydantic->guidance>=0.1.5->pywhyllm==0.0.0) (0.7.0)\n",
      "Requirement already satisfied: pydantic-core==2.27.2 in /usr/local/lib/python3.11/dist-packages (from pydantic->guidance>=0.1.5->pywhyllm==0.0.0) (2.27.2)\n",
      "Requirement already satisfied: typing-extensions>=4.12.2 in /usr/local/lib/python3.11/dist-packages (from pydantic->guidance>=0.1.5->pywhyllm==0.0.0) (4.12.2)\n",
      "Requirement already satisfied: attrs>=22.2.0 in /usr/local/lib/python3.11/dist-packages (from referencing->guidance>=0.1.5->pywhyllm==0.0.0) (25.1.0)\n",
      "Requirement already satisfied: rpds-py>=0.7.0 in /usr/local/lib/python3.11/dist-packages (from referencing->guidance>=0.1.5->pywhyllm==0.0.0) (0.22.3)\n",
      "Requirement already satisfied: comm>=0.1.3 in /usr/local/lib/python3.11/dist-packages (from ipywidgets>=8.0.0->guidance-stitch->guidance>=0.1.5->pywhyllm==0.0.0) (0.2.2)\n",
      "Requirement already satisfied: ipython>=6.1.0 in /usr/local/lib/python3.11/dist-packages (from ipywidgets>=8.0.0->guidance-stitch->guidance>=0.1.5->pywhyllm==0.0.0) (7.34.0)\n",
      "Requirement already satisfied: traitlets>=4.3.1 in /usr/local/lib/python3.11/dist-packages (from ipywidgets>=8.0.0->guidance-stitch->guidance>=0.1.5->pywhyllm==0.0.0) (5.7.1)\n",
      "Requirement already satisfied: widgetsnbextension~=4.0.12 in /usr/local/lib/python3.11/dist-packages (from ipywidgets>=8.0.0->guidance-stitch->guidance>=0.1.5->pywhyllm==0.0.0) (4.0.13)\n",
      "Requirement already satisfied: jupyterlab-widgets~=3.0.12 in /usr/local/lib/python3.11/dist-packages (from ipywidgets>=8.0.0->guidance-stitch->guidance>=0.1.5->pywhyllm==0.0.0) (3.0.13)\n",
      "Requirement already satisfied: setuptools>=18.5 in /usr/local/lib/python3.11/dist-packages (from ipython>=6.1.0->ipywidgets>=8.0.0->guidance-stitch->guidance>=0.1.5->pywhyllm==0.0.0) (75.1.0)\n",
      "Requirement already satisfied: jedi>=0.16 in /usr/local/lib/python3.11/dist-packages (from ipython>=6.1.0->ipywidgets>=8.0.0->guidance-stitch->guidance>=0.1.5->pywhyllm==0.0.0) (0.19.2)\n",
      "Requirement already satisfied: decorator in /usr/local/lib/python3.11/dist-packages (from ipython>=6.1.0->ipywidgets>=8.0.0->guidance-stitch->guidance>=0.1.5->pywhyllm==0.0.0) (4.4.2)\n",
      "Requirement already satisfied: pickleshare in /usr/local/lib/python3.11/dist-packages (from ipython>=6.1.0->ipywidgets>=8.0.0->guidance-stitch->guidance>=0.1.5->pywhyllm==0.0.0) (0.7.5)\n",
      "Requirement already satisfied: prompt-toolkit!=3.0.0,!=3.0.1,<3.1.0,>=2.0.0 in /usr/local/lib/python3.11/dist-packages (from ipython>=6.1.0->ipywidgets>=8.0.0->guidance-stitch->guidance>=0.1.5->pywhyllm==0.0.0) (3.0.50)\n",
      "Requirement already satisfied: pygments in /usr/local/lib/python3.11/dist-packages (from ipython>=6.1.0->ipywidgets>=8.0.0->guidance-stitch->guidance>=0.1.5->pywhyllm==0.0.0) (2.18.0)\n",
      "Requirement already satisfied: backcall in /usr/local/lib/python3.11/dist-packages (from ipython>=6.1.0->ipywidgets>=8.0.0->guidance-stitch->guidance>=0.1.5->pywhyllm==0.0.0) (0.2.0)\n",
      "Requirement already satisfied: matplotlib-inline in /usr/local/lib/python3.11/dist-packages (from ipython>=6.1.0->ipywidgets>=8.0.0->guidance-stitch->guidance>=0.1.5->pywhyllm==0.0.0) (0.1.7)\n",
      "Requirement already satisfied: pexpect>4.3 in /usr/local/lib/python3.11/dist-packages (from ipython>=6.1.0->ipywidgets>=8.0.0->guidance-stitch->guidance>=0.1.5->pywhyllm==0.0.0) (4.9.0)\n",
      "Requirement already satisfied: parso<0.9.0,>=0.8.4 in /usr/local/lib/python3.11/dist-packages (from jedi>=0.16->ipython>=6.1.0->ipywidgets>=8.0.0->guidance-stitch->guidance>=0.1.5->pywhyllm==0.0.0) (0.8.4)\n",
      "Requirement already satisfied: ptyprocess>=0.5 in /usr/local/lib/python3.11/dist-packages (from pexpect>4.3->ipython>=6.1.0->ipywidgets>=8.0.0->guidance-stitch->guidance>=0.1.5->pywhyllm==0.0.0) (0.7.0)\n",
      "Requirement already satisfied: wcwidth in /usr/local/lib/python3.11/dist-packages (from prompt-toolkit!=3.0.0,!=3.0.1,<3.1.0,>=2.0.0->ipython>=6.1.0->ipywidgets>=8.0.0->guidance-stitch->guidance>=0.1.5->pywhyllm==0.0.0) (0.2.13)\n",
      "Building wheels for collected packages: pywhyllm\n",
      "  Building wheel for pywhyllm (pyproject.toml) ... \u001b[?25l\u001b[?25hdone\n",
      "  Created wheel for pywhyllm: filename=pywhyllm-0.0.0-py3-none-any.whl size=21041 sha256=ef0b2f23191cef49878a29dd4fd81fe3c00af38084153ee416b632f3a9c17569\n",
      "  Stored in directory: /root/.cache/pip/wheels/40/a9/c3/60f411076164ff75e8433d2123b746f808206a62a9a3a3fa03\n",
      "Successfully built pywhyllm\n",
      "Installing collected packages: pywhyllm\n",
      "Successfully installed pywhyllm-0.0.0\n"
     ]
    }
   ],
   "source": [
    "pip install '/content/drive/MyDrive/pywhy-llm'"
   ]
  },
  {
   "cell_type": "code",
   "execution_count": 23,
   "metadata": {
    "colab": {
     "base_uri": "https://localhost:8080/"
    },
    "id": "pn7WLx36DpTg",
    "outputId": "8413ae67-ab22-4954-d671-4ddd4cc22381"
   },
   "outputs": [
    {
     "name": "stdout",
     "output_type": "stream",
     "text": [
      "Collecting gpustat\n",
      "  Downloading gpustat-1.1.1.tar.gz (98 kB)\n",
      "\u001b[?25l     \u001b[90m━━━━━━━━━━━━━━━━━━━━━━━━━━━━━━━━━━━━━━━━\u001b[0m \u001b[32m0.0/98.1 kB\u001b[0m \u001b[31m?\u001b[0m eta \u001b[36m-:--:--\u001b[0m\r",
      "\u001b[2K     \u001b[90m━━━━━━━━━━━━━━━━━━━━━━━━━━━━━━━━━━━━━━━━\u001b[0m \u001b[32m98.1/98.1 kB\u001b[0m \u001b[31m9.6 MB/s\u001b[0m eta \u001b[36m0:00:00\u001b[0m\n",
      "\u001b[?25h  Installing build dependencies ... \u001b[?25l\u001b[?25hdone\n",
      "  Getting requirements to build wheel ... \u001b[?25l\u001b[?25hdone\n",
      "  Preparing metadata (pyproject.toml) ... \u001b[?25l\u001b[?25hdone\n",
      "Collecting nvidia-ml-py>=11.450.129 (from gpustat)\n",
      "  Downloading nvidia_ml_py-12.570.86-py3-none-any.whl.metadata (8.7 kB)\n",
      "Requirement already satisfied: psutil>=5.6.0 in /usr/local/lib/python3.11/dist-packages (from gpustat) (5.9.5)\n",
      "Collecting blessed>=1.17.1 (from gpustat)\n",
      "  Downloading blessed-1.20.0-py2.py3-none-any.whl.metadata (13 kB)\n",
      "Requirement already satisfied: wcwidth>=0.1.4 in /usr/local/lib/python3.11/dist-packages (from blessed>=1.17.1->gpustat) (0.2.13)\n",
      "Requirement already satisfied: six>=1.9.0 in /usr/local/lib/python3.11/dist-packages (from blessed>=1.17.1->gpustat) (1.17.0)\n",
      "Downloading blessed-1.20.0-py2.py3-none-any.whl (58 kB)\n",
      "\u001b[2K   \u001b[90m━━━━━━━━━━━━━━━━━━━━━━━━━━━━━━━━━━━━━━━━\u001b[0m \u001b[32m58.4/58.4 kB\u001b[0m \u001b[31m5.4 MB/s\u001b[0m eta \u001b[36m0:00:00\u001b[0m\n",
      "\u001b[?25hDownloading nvidia_ml_py-12.570.86-py3-none-any.whl (44 kB)\n",
      "\u001b[2K   \u001b[90m━━━━━━━━━━━━━━━━━━━━━━━━━━━━━━━━━━━━━━━━\u001b[0m \u001b[32m44.4/44.4 kB\u001b[0m \u001b[31m4.3 MB/s\u001b[0m eta \u001b[36m0:00:00\u001b[0m\n",
      "\u001b[?25hBuilding wheels for collected packages: gpustat\n",
      "  Building wheel for gpustat (pyproject.toml) ... \u001b[?25l\u001b[?25hdone\n",
      "  Created wheel for gpustat: filename=gpustat-1.1.1-py3-none-any.whl size=26608 sha256=56886eeb00c620277ad48366e6f60b747bd7cd9ebb3da078c06e8b1eb030a6a6\n",
      "  Stored in directory: /root/.cache/pip/wheels/c9/2b/d9/a0b77d6e8623ce6b5c73813af455a3ace394abfc2e8aef7ed6\n",
      "Successfully built gpustat\n",
      "Installing collected packages: nvidia-ml-py, blessed, gpustat\n",
      "Successfully installed blessed-1.20.0 gpustat-1.1.1 nvidia-ml-py-12.570.86\n"
     ]
    }
   ],
   "source": [
    "pip install gpustat"
   ]
  },
  {
   "cell_type": "code",
   "execution_count": null,
   "metadata": {
    "id": "3xkesuXtJ5YQ"
   },
   "outputs": [],
   "source": [
    "from dotenv import load_dotenv\n",
    "import os\n",
    "import guidance\n",
    "from guidance import models\n",
    "\n",
    "load_dotenv()\n",
    "\n",
    "from getpass import getpass\n",
    "\n",
    "OPENAI_API_KEY = getpass()\n",
    "\n",
    "os.environ[\"OPENAI_API_KEY\"] = OPENAI_API_KEY"
   ]
  },
  {
   "cell_type": "code",
   "execution_count": 24,
   "metadata": {
    "id": "GtLY4ihkJ5YR"
   },
   "outputs": [],
   "source": [
    "from pywhyllm.suggesters.simple_model_suggester import SimpleModelSuggester\n",
    "modeler = SimpleModelSuggester('gpt-4')"
   ]
  },
  {
   "cell_type": "markdown",
   "metadata": {
    "id": "HfMcQmTnJ5YR"
   },
   "source": [
    "## Test pairwise relationships"
   ]
  },
  {
   "cell_type": "code",
   "execution_count": 9,
   "metadata": {
    "colab": {
     "base_uri": "https://localhost:8080/"
    },
    "id": "H1Y4XeqdJ5YS",
    "outputId": "cf4356dc-f57d-4892-d473-fdb64964c089"
   },
   "outputs": [
    {
     "name": "stdout",
     "output_type": "stream",
     "text": [
      "The most likely cause-and-effect relationship is <answer> C </answer>. This is because ice cream sales and shark attacks are not directly related to each other. They are both correlated with a third variable, which is likely to be the weather. For example, during the summer months, people are more likely to buy ice cream and go swimming in the ocean, which could potentially increase the risk of shark attacks. However, one does not cause the other.\n"
     ]
    }
   ],
   "source": [
    "result = modeler.suggest_pairwise_relationship(\"ice cream sales\", \"shark attacks\")\n"
   ]
  },
  {
   "cell_type": "code",
   "execution_count": 13,
   "metadata": {
    "colab": {
     "base_uri": "https://localhost:8080/"
    },
    "id": "oYIJWcLTpf6K",
    "outputId": "3fa333d5-f327-4345-f36f-ba59f737adeb"
   },
   "outputs": [
    {
     "data": {
      "text/plain": [
       "[None,\n",
       " None,\n",
       " 'The most likely cause-and-effect relationship is <answer> C </answer>. This is because ice cream sales and shark attacks are not directly related to each other. They are both correlated with a third variable, which is likely to be the weather. For example, during the summer months, people are more likely to buy ice cream and go swimming in the ocean, which could potentially increase the risk of shark attacks. However, one does not cause the other.']"
      ]
     },
     "execution_count": 13,
     "metadata": {},
     "output_type": "execute_result"
    }
   ],
   "source": [
    "result"
   ]
  },
  {
   "cell_type": "code",
   "execution_count": 14,
   "metadata": {
    "colab": {
     "base_uri": "https://localhost:8080/"
    },
    "id": "Zoveb0KGJ5YS",
    "outputId": "41de089c-28bb-4074-ffa5-139a2e7c22cc"
   },
   "outputs": [
    {
     "name": "stdout",
     "output_type": "stream",
     "text": [
      "neither causes the other\n"
     ]
    }
   ],
   "source": [
    "# doesn't work\n",
    "if result[0] is not None:\n",
    "    print(f\"{result[0]} causes {result[1]}\")\n",
    "else:\n",
    "    print(f\"neither causes the other\")"
   ]
  },
  {
   "cell_type": "markdown",
   "metadata": {
    "id": "eAv1WdbUJ5YS"
   },
   "source": [
    "## Let's build a graph among multiple variables"
   ]
  },
  {
   "cell_type": "code",
   "execution_count": 15,
   "metadata": {
    "colab": {
     "base_uri": "https://localhost:8080/"
    },
    "id": "j59zNdp2J5YT",
    "outputId": "d1163791-f626-4045-c681-202111a1bfc4"
   },
   "outputs": [
    {
     "name": "stdout",
     "output_type": "stream",
     "text": [
      "1/3.0: Querying for relationship between ice cream sales and temperature\n",
      "The cause-and-effect relationship is more likely to be B. Temperature causes ice cream sales. This is because when the temperature is high (during summer, for example), people are more likely to buy ice cream to cool down. On the other hand, buying ice cream does not have an effect on the temperature. \n",
      "\n",
      "<answer> B </answer>\n",
      "\ttemperature causes ice cream sales\n",
      "2/3.0: Querying for relationship between ice cream sales and cavities\n",
      "The cause-and-effect relationship between ice cream sales and cavities is not straightforward. While it's true that consuming too much ice cream, which is high in sugar, can contribute to the development of cavities, it's not the sales of ice cream that directly cause cavities. It's the consumption and poor dental hygiene that does. On the other hand, cavities do not cause ice cream sales. People with cavities might choose to eat ice cream because it's soft and easy to eat, but cavities themselves do not increase ice cream sales. Therefore, neither ice cream sales nor cavities cause each other directly. \n",
      "\n",
      "<answer> C </answer>\n",
      "\tNo relationship found between ice cream sales and cavities\n",
      "3/3.0: Querying for relationship between temperature and cavities\n",
      "Cavities are caused by factors such as poor oral hygiene, frequent snacking on sugary foods and drinks, and not getting enough fluoride. Temperature, on the other hand, does not cause cavities. Similarly, cavities do not cause temperature. Temperature is a measure of heat or coldness and is not influenced by dental health. Therefore, the most likely cause-and-effect relationship is C. neither temperature nor cavities cause each other.\n",
      "\n",
      "<answer>C</answer>\n",
      "\tNo relationship found between temperature and cavities\n"
     ]
    },
    {
     "data": {
      "text/plain": [
       "{('temperature',\n",
       "  'ice cream sales'): 'The cause-and-effect relationship is more likely to be B. Temperature causes ice cream sales. This is because when the temperature is high (during summer, for example), people are more likely to buy ice cream to cool down. On the other hand, buying ice cream does not have an effect on the temperature. \\n\\n<answer> B </answer>'}"
      ]
     },
     "execution_count": 15,
     "metadata": {},
     "output_type": "execute_result"
    }
   ],
   "source": [
    "variables = [\"ice cream sales\", \"temperature\", \"cavities\"]\n",
    "results = modeler.suggest_relationships(variables)\n",
    "\n",
    "results"
   ]
  },
  {
   "cell_type": "code",
   "execution_count": 22,
   "metadata": {
    "colab": {
     "base_uri": "https://localhost:8080/"
    },
    "id": "Q_ndDUhlB1Ai",
    "outputId": "03220e84-263c-4546-abb6-65cbcf4d2500"
   },
   "outputs": [
    {
     "data": {
      "text/plain": [
       "{('temperature',\n",
       "  'ice cream sales'): 'The cause-and-effect relationship is more likely to be B. Temperature causes ice cream sales. This is because when the temperature is high (during summer, for example), people are more likely to buy ice cream to cool down. On the other hand, buying ice cream does not have an effect on the temperature. \\n\\n<answer> B </answer>'}"
      ]
     },
     "execution_count": 22,
     "metadata": {},
     "output_type": "execute_result"
    }
   ],
   "source": [
    "results"
   ]
  },
  {
   "cell_type": "markdown",
   "metadata": {
    "id": "Kvin8NlmJ5YT"
   },
   "source": [
    "## Latent confounders"
   ]
  },
  {
   "cell_type": "code",
   "execution_count": 16,
   "metadata": {
    "colab": {
     "base_uri": "https://localhost:8080/"
    },
    "id": "07CvHj5sJ5YT",
    "outputId": "0abd593a-31fb-4e07-88d4-2318555424c9"
   },
   "outputs": [
    {
     "name": "stdout",
     "output_type": "stream",
     "text": [
      "['Beach attendance', 'Season of the year', 'Water temperature', 'Availability of ice cream', 'Shark population', 'Public holidays', 'Leisure time', 'Tourist season', 'Swimming habits', 'Marketing campaigns for ice cream']\n"
     ]
    }
   ],
   "source": [
    "variables = [\"ice cream sales\", \"temperature\", \"cavities\"]\n",
    "latents = modeler.suggest_confounders(variables, \"ice cream sales\", \"shark attacks\")\n",
    "\n",
    "print(latents)"
   ]
  },
  {
   "cell_type": "code",
   "execution_count": 17,
   "metadata": {
    "colab": {
     "base_uri": "https://localhost:8080/"
    },
    "id": "X6AjKq8JJ5YT",
    "outputId": "3de57801-d8ea-4789-95c6-915b52b0d849"
   },
   "outputs": [
    {
     "name": "stdout",
     "output_type": "stream",
     "text": [
      "['Physical activity level', 'Smoking status', 'Alcohol consumption', 'Genetic predisposition', 'Stress levels', 'Chronic diseases', 'Medication use', 'Socioeconomic status']\n"
     ]
    }
   ],
   "source": [
    "latents = modeler.suggest_confounders([\"weight\", \"diet\", \"age\"], \"vitamin c\", \"cardiovascular health\")\n",
    "\n",
    "print(latents)"
   ]
  },
  {
   "cell_type": "markdown",
   "metadata": {
    "id": "45IJWbdQJ5YT"
   },
   "source": [
    "### Identification support"
   ]
  },
  {
   "cell_type": "markdown",
   "metadata": {
    "id": "wnorzUJMJ5YT"
   },
   "source": [
    "## Instrumental variables"
   ]
  },
  {
   "cell_type": "code",
   "execution_count": 25,
   "metadata": {
    "id": "MNL9qLCNJ5YT"
   },
   "outputs": [],
   "source": [
    "from pywhyllm.suggesters.simple_identification_suggester import SimpleIdentificationSuggester\n",
    "identifier = SimpleIdentificationSuggester('gpt-4')"
   ]
  },
  {
   "cell_type": "code",
   "execution_count": 19,
   "metadata": {
    "colab": {
     "base_uri": "https://localhost:8080/"
    },
    "id": "DYRimHThJ5YT",
    "outputId": "fed3fa60-c224-448e-e93d-9369d6bd45e3"
   },
   "outputs": [
    {
     "data": {
      "text/plain": [
       "['cigarette taxes']"
      ]
     },
     "execution_count": 19,
     "metadata": {},
     "output_type": "execute_result"
    }
   ],
   "source": [
    "variables = [\"cigarette taxes\", \"rain\", \"car sales\", \"property taxes\", \"heart attacks\"]\n",
    "ivs = identifier.suggest_iv(variables, \"smoking\", \"birth weight\")\n",
    "\n",
    "ivs"
   ]
  },
  {
   "cell_type": "markdown",
   "metadata": {
    "id": "xz2NOGl3J5YU"
   },
   "source": [
    "### Backdoor variables"
   ]
  },
  {
   "cell_type": "code",
   "execution_count": 20,
   "metadata": {
    "colab": {
     "base_uri": "https://localhost:8080/"
    },
    "id": "xuhj4TEKJ5YU",
    "outputId": "1fc51fa1-68ec-41b4-9ff4-6a3c849710c6"
   },
   "outputs": [
    {
     "name": "stdout",
     "output_type": "stream",
     "text": [
      "[\"'Age'\", \"'Sex'\", \"'HbA1c'\", \"'HDL'\", \"'LDL'\", \"'eGFR'\", \"'Prior MI'\", \"'Prior Stroke or TIA'\", \"'Prior Heart Failure'\", \"'Cardiovascular medication'\", \"'T2DM medication'\", \"'Insulin'\", \"'Morbid obesity'\"]\n"
     ]
    }
   ],
   "source": [
    "variables = [\"Age\", \"Sex\", \"HbA1c\", \"HDL\", \"LDL\", \"eGFR\", \"Prior MI\",\n",
    "             \"Prior Stroke or TIA\", \"Prior Heart Failure\", \"Cardiovascular medication\",\n",
    "             \"T2DM medication\", \"Insulin\", \"Morbid obesity\", \"First occurrence of Nonfatal myocardial infarction, nonfatal stroke, death from all cause\",\n",
    "             \"semaglutide treatment\", \"Semaglutide medication\", \"income\", \"musical taste\"]\n",
    "\n",
    "backdoors = identifier.suggest_backdoor(variables,\n",
    "                            treatment=\"semaglutide treatment\", outcome = \"cardiovascular health\")\n",
    "\n",
    "print(backdoors)"
   ]
  },
  {
   "cell_type": "markdown",
   "metadata": {
    "id": "ntZKtFy_J5YU"
   },
   "source": [
    "### Frontdoor"
   ]
  },
  {
   "cell_type": "code",
   "execution_count": 21,
   "metadata": {
    "colab": {
     "base_uri": "https://localhost:8080/"
    },
    "id": "yer720-5J5YU",
    "outputId": "f385428f-8e09-42a9-977b-430a4985000d"
   },
   "outputs": [
    {
     "name": "stdout",
     "output_type": "stream",
     "text": [
      "[\"'HbA1c'\", \"'T2DM medication'\", \"'Insulin'\", \"'Cardiovascular medication'\", \"'Prior MI'\", \"'Prior Stroke or TIA'\", \"'Prior Heart Failure'\", \"'First occurrence of Nonfatal myocardial infarction, nonfatal stroke, death from all cause'\"]\n"
     ]
    }
   ],
   "source": [
    "frontdoors = identifier.suggest_frontdoor(variables,\n",
    "                            treatment=\"semaglutide treatment\", outcome = \"cardiovascular health\")\n",
    "\n",
    "print(frontdoors)"
   ]
  }
 ],
 "metadata": {
  "accelerator": "GPU",
  "colab": {
   "gpuType": "T4",
   "provenance": []
  },
  "kernelspec": {
   "display_name": "Python 3 (ipykernel)",
   "language": "python",
   "name": "python3"
  },
  "language_info": {
   "codemirror_mode": {
    "name": "ipython",
    "version": 3
   },
   "file_extension": ".py",
   "mimetype": "text/x-python",
   "name": "python",
   "nbconvert_exporter": "python",
   "pygments_lexer": "ipython3",
   "version": "3.8.10"
  }
 },
 "nbformat": 4,
 "nbformat_minor": 4
}
